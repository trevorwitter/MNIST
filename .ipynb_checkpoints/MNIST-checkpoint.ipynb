{
 "cells": [
  {
   "cell_type": "code",
   "execution_count": 1,
   "metadata": {
    "collapsed": false
   },
   "outputs": [
    {
     "data": {
      "text/plain": [
       "{'COL_NAMES': ['label', 'data'],\n",
       " 'DESCR': 'mldata.org dataset: mnist-original',\n",
       " 'data': array([[0, 0, 0, ..., 0, 0, 0],\n",
       "        [0, 0, 0, ..., 0, 0, 0],\n",
       "        [0, 0, 0, ..., 0, 0, 0],\n",
       "        ..., \n",
       "        [0, 0, 0, ..., 0, 0, 0],\n",
       "        [0, 0, 0, ..., 0, 0, 0],\n",
       "        [0, 0, 0, ..., 0, 0, 0]], dtype=uint8),\n",
       " 'target': array([ 0.,  0.,  0., ...,  9.,  9.,  9.])}"
      ]
     },
     "execution_count": 1,
     "metadata": {},
     "output_type": "execute_result"
    }
   ],
   "source": [
    "%matplotlib inline\n",
    "import matplotlib\n",
    "import matplotlib.pyplot as plt\n",
    "from sklearn.datasets import fetch_mldata\n",
    "mnist = fetch_mldata('MNIST original')\n",
    "mnist"
   ]
  },
  {
   "cell_type": "code",
   "execution_count": 2,
   "metadata": {
    "collapsed": false
   },
   "outputs": [
    {
     "name": "stdout",
     "output_type": "stream",
     "text": [
      "X shape: (70000, 784) , y shape: (70000,)\n"
     ]
    }
   ],
   "source": [
    "X, y = mnist[\"data\"], mnist[\"target\"]\n",
    "print(\"X shape:\", X.shape, \", y shape:\", y.shape)"
   ]
  },
  {
   "cell_type": "code",
   "execution_count": 3,
   "metadata": {
    "collapsed": false
   },
   "outputs": [
    {
     "data": {
      "image/png": "[encoded data removed]",
      "text/plain": [
       "<matplotlib.figure.Figure at 0x10f34dda0>"
      ]
     },
     "metadata": {},
     "output_type": "display_data"
    }
   ],
   "source": [
    "test_digit = X[55555]\n",
    "test_digit_image = test_digit.reshape(28,28)\n",
    "\n",
    "plt.imshow(test_digit_image, cmap = matplotlib.cm.binary,\n",
    "          interpolation=\"nearest\")\n",
    "plt.axis(\"off\")\n",
    "plt.show()"
   ]
  },
  {
   "cell_type": "code",
   "execution_count": 4,
   "metadata": {
    "collapsed": false
   },
   "outputs": [
    {
     "data": {
      "text/plain": [
       "9.0"
      ]
     },
     "execution_count": 4,
     "metadata": {},
     "output_type": "execute_result"
    }
   ],
   "source": [
    "y[55555]"
   ]
  },
  {
   "cell_type": "code",
   "execution_count": 5,
   "metadata": {
    "collapsed": true
   },
   "outputs": [],
   "source": [
    "X_train, X_test, y_train, y_test = X[:60000], X[60000:], y[:60000], y[60000:]"
   ]
  },
  {
   "cell_type": "code",
   "execution_count": 6,
   "metadata": {
    "collapsed": true
   },
   "outputs": [],
   "source": [
    "import numpy as np\n",
    "\n",
    "shuffle_index = np.random.permutation(60000)\n",
    "X_train, y_train = X_train[shuffle_index], y_train[shuffle_index]"
   ]
  },
  {
   "cell_type": "code",
   "execution_count": 7,
   "metadata": {
    "collapsed": false
   },
   "outputs": [
    {
     "data": {
      "text/plain": [
       "SGDClassifier(alpha=0.0001, average=False, class_weight=None, epsilon=0.1,\n",
       "       eta0=0.0, fit_intercept=True, l1_ratio=0.15,\n",
       "       learning_rate='optimal', loss='hinge', n_iter=5, n_jobs=1,\n",
       "       penalty='l2', power_t=0.5, random_state=42, shuffle=True, verbose=0,\n",
       "       warm_start=False)"
      ]
     },
     "execution_count": 7,
     "metadata": {},
     "output_type": "execute_result"
    }
   ],
   "source": [
    "from sklearn.linear_model import SGDClassifier\n",
    "\n",
    "sgd_clf = SGDClassifier(random_state=42)\n",
    "sgd_clf.fit(X_train, y_train)"
   ]
  },
  {
   "cell_type": "code",
   "execution_count": 8,
   "metadata": {
    "collapsed": false
   },
   "outputs": [
    {
     "data": {
      "text/plain": [
       "array([ 9.])"
      ]
     },
     "execution_count": 8,
     "metadata": {},
     "output_type": "execute_result"
    }
   ],
   "source": [
    "sgd_clf.predict([test_digit])"
   ]
  },
  {
   "cell_type": "code",
   "execution_count": 9,
   "metadata": {
    "collapsed": true
   },
   "outputs": [],
   "source": [
    "# Confusion Matrix\n",
    "from sklearn.model_selection import cross_val_predict\n",
    "\n",
    "y_train_pred_sgd = cross_val_predict(sgd_clf, X_train, y_train, cv=3)"
   ]
  },
  {
   "cell_type": "code",
   "execution_count": 10,
   "metadata": {
    "collapsed": false
   },
   "outputs": [
    {
     "data": {
      "text/plain": [
       "array([[5418,    2,   66,   28,   18,   67,   90,   12,  202,   20],\n",
       "       [   1, 6258,   50,   31,    7,   46,   46,   17,  267,   19],\n",
       "       [  26,   53, 5107,  159,   56,   24,  121,   86,  292,   34],\n",
       "       [  13,   19,  175, 5125,   16,  258,   35,   60,  338,   92],\n",
       "       [  14,   21,   79,   17, 4952,   11,   71,   63,  220,  394],\n",
       "       [  71,   29,   64,  238,   83, 3775,  192,   30,  837,  102],\n",
       "       [  21,    6,   60,    5,   19,   35, 5636,   17,  115,    4],\n",
       "       [  20,   12,   55,   52,   55,   11,    7, 5639,   58,  356],\n",
       "       [  29,  109,   70,  109,   40,  163,   88,   46, 5105,   92],\n",
       "       [  19,   17,   37,   75,  137,   35,    5,  287,  268, 5069]])"
      ]
     },
     "execution_count": 10,
     "metadata": {},
     "output_type": "execute_result"
    }
   ],
   "source": [
    "from sklearn.metrics import confusion_matrix\n",
    "\n",
    "confusion_matrix(y_train, y_train_pred_sgd)"
   ]
  },
  {
   "cell_type": "code",
   "execution_count": 11,
   "metadata": {
    "collapsed": true
   },
   "outputs": [],
   "source": [
    "from sklearn.metrics import precision_score, recall_score, f1_score\n",
    "\n",
    "def precision_recall(train, prediction):\n",
    "    p = precision_score(train, prediction, average='weighted')\n",
    "    r = recall_score(train, prediction, average='weighted')\n",
    "    f = f1_score(train, prediction, average='weighted')\n",
    "    print(\"Precision\", p)\n",
    "    print(\"Recall:\", r)\n",
    "    print(\"F1 Score:\", f)"
   ]
  },
  {
   "cell_type": "code",
   "execution_count": 12,
   "metadata": {
    "collapsed": false,
    "scrolled": true
   },
   "outputs": [
    {
     "name": "stdout",
     "output_type": "stream",
     "text": [
      "CPU times: user 7.08 s, sys: 346 ms, total: 7.42 s\n",
      "Wall time: 7.09 s\n"
     ]
    }
   ],
   "source": [
    "%%time\n",
    "from sklearn.model_selection import cross_val_score\n",
    "\n",
    "y_scores_sgd = cross_val_score(sgd_clf, X_train, y_train, cv=3, scoring=\"accuracy\")"
   ]
  },
  {
   "cell_type": "code",
   "execution_count": 13,
   "metadata": {
    "collapsed": false
   },
   "outputs": [
    {
     "name": "stdout",
     "output_type": "stream",
     "text": [
      "CPU times: user 12 s, sys: 420 ms, total: 12.4 s\n",
      "Wall time: 3.14 s\n"
     ]
    }
   ],
   "source": [
    "%%time\n",
    "from sklearn.ensemble import RandomForestClassifier\n",
    "\n",
    "forest_clf = RandomForestClassifier(n_jobs=-1, random_state=42)\n",
    "y_scores_forest = cross_val_score(forest_clf, X_train, y_train, cv=3, scoring=\"accuracy\")"
   ]
  },
  {
   "cell_type": "code",
   "execution_count": 37,
   "metadata": {
    "collapsed": false
   },
   "outputs": [
    {
     "name": "stdout",
     "output_type": "stream",
     "text": [
      "CPU times: user 1h 19min 46s, sys: 11.2 s, total: 1h 19min 57s\n",
      "Wall time: 11min 1s\n"
     ]
    }
   ],
   "source": [
    "%%time\n",
    "from sklearn.neighbors import KNeighborsClassifier\n",
    "\n",
    "knn_clf = KNeighborsClassifier(n_jobs=-1)\n",
    "y_scores_knn = cross_val_score(knn_clf, X_train, y_train, cv=3, scoring=\"accuracy\")"
   ]
  },
  {
   "cell_type": "code",
   "execution_count": 38,
   "metadata": {
    "collapsed": false
   },
   "outputs": [
    {
     "name": "stdout",
     "output_type": "stream",
     "text": [
      "CPU times: user 18min 35s, sys: 1min 42s, total: 20min 17s\n",
      "Wall time: 6min 8s\n"
     ]
    }
   ],
   "source": [
    "%%time\n",
    "from sklearn.neural_network import MLPClassifier\n",
    "\n",
    "MLP_clf = MLPClassifier(hidden_layer_sizes=(784,784,784), random_state=42)\n",
    "y_scores_MLP = cross_val_score(MLP_clf, X_train, y_train, cv=3, scoring=\"accuracy\")"
   ]
  },
  {
   "cell_type": "code",
   "execution_count": 39,
   "metadata": {
    "collapsed": false
   },
   "outputs": [
    {
     "name": "stdout",
     "output_type": "stream",
     "text": [
      "SGD: [ 0.87432513  0.87319366  0.8566785 ]\n",
      "Random Forest: [ 0.9415117   0.93974699  0.94099115]\n",
      "KNN: [ 0.96795641  0.96819841  0.96819523]\n",
      "MLP: [ 0.95855829  0.95724786  0.95034255]\n"
     ]
    }
   ],
   "source": [
    "print(\"SGD:\", y_scores_sgd)\n",
    "print(\"Random Forest:\", y_scores_forest)\n",
    "print(\"KNN:\", y_scores_knn)\n",
    "print(\"MLP:\", y_scores_MLP)"
   ]
  },
  {
   "cell_type": "code",
   "execution_count": 26,
   "metadata": {
    "collapsed": false
   },
   "outputs": [
    {
     "data": {
      "text/plain": [
       "GridSearchCV(cv=3, error_score='raise',\n",
       "       estimator=RandomForestClassifier(bootstrap=True, class_weight=None, criterion='gini',\n",
       "            max_depth=None, max_features='auto', max_leaf_nodes=None,\n",
       "            min_impurity_split=1e-07, min_samples_leaf=1,\n",
       "            min_samples_split=2, min_weight_fraction_leaf=0.0,\n",
       "            n_estimators=10, n_jobs=-1, oob_score=False, random_state=42,\n",
       "            verbose=0, warm_start=False),\n",
       "       fit_params={}, iid=True, n_jobs=1,\n",
       "       param_grid=[{'max_features': [20, 30, 35], 'n_estimators': [180, 200, 220, 240]}, {'max_features': [2, 3, 4], 'bootstrap': [False], 'n_estimators': [3, 10]}],\n",
       "       pre_dispatch='2*n_jobs', refit=True, return_train_score=True,\n",
       "       scoring='accuracy', verbose=0)"
      ]
     },
     "execution_count": 26,
     "metadata": {},
     "output_type": "execute_result"
    }
   ],
   "source": [
    "from sklearn.model_selection import GridSearchCV\n",
    "\n",
    "param_grid = [{'n_estimators':[180,200,220,240], 'max_features':[20,30,35]},\n",
    "              {'bootstrap':[False], 'n_estimators':[3,10], 'max_features':[2,3,4]},\n",
    "             ]\n",
    "grid_search = GridSearchCV(forest_clf, param_grid, cv=3, scoring='accuracy')\n",
    "grid_search.fit(X_train, y_train)"
   ]
  },
  {
   "cell_type": "code",
   "execution_count": 27,
   "metadata": {
    "collapsed": false
   },
   "outputs": [
    {
     "name": "stdout",
     "output_type": "stream",
     "text": [
      "0.9664 {'max_features': 20, 'n_estimators': 180}\n",
      "0.966216666667 {'max_features': 20, 'n_estimators': 200}\n",
      "0.966366666667 {'max_features': 20, 'n_estimators': 220}\n",
      "0.9667 {'max_features': 20, 'n_estimators': 240}\n",
      "0.9662 {'max_features': 30, 'n_estimators': 180}\n",
      "0.96645 {'max_features': 30, 'n_estimators': 200}\n",
      "0.966983333333 {'max_features': 30, 'n_estimators': 220}\n",
      "0.966783333333 {'max_features': 30, 'n_estimators': 240}\n",
      "0.966333333333 {'max_features': 35, 'n_estimators': 180}\n",
      "0.966483333333 {'max_features': 35, 'n_estimators': 200}\n",
      "0.966866666667 {'max_features': 35, 'n_estimators': 220}\n",
      "0.966983333333 {'max_features': 35, 'n_estimators': 240}\n",
      "0.7984 {'max_features': 2, 'bootstrap': False, 'n_estimators': 3}\n",
      "0.91745 {'max_features': 2, 'bootstrap': False, 'n_estimators': 10}\n",
      "0.812733333333 {'max_features': 3, 'bootstrap': False, 'n_estimators': 3}\n",
      "0.923466666667 {'max_features': 3, 'bootstrap': False, 'n_estimators': 10}\n",
      "0.820316666667 {'max_features': 4, 'bootstrap': False, 'n_estimators': 3}\n",
      "0.926 {'max_features': 4, 'bootstrap': False, 'n_estimators': 10}\n"
     ]
    }
   ],
   "source": [
    "cvres = grid_search.cv_results_\n",
    "for mean_score, params in zip(cvres[\"mean_test_score\"], cvres[\"params\"]):\n",
    "    print(mean_score, params)"
   ]
  },
  {
   "cell_type": "code",
   "execution_count": 30,
   "metadata": {
    "collapsed": false
   },
   "outputs": [
    {
     "data": {
      "text/plain": [
       "GridSearchCV(cv=3, error_score='raise',\n",
       "       estimator=KNeighborsClassifier(algorithm='auto', leaf_size=30, metric='minkowski',\n",
       "           metric_params=None, n_jobs=-1, n_neighbors=5, p=2,\n",
       "           weights='uniform'),\n",
       "       fit_params={}, iid=True, n_jobs=1,\n",
       "       param_grid=[{'weights': ['uniform', 'distance'], 'n_neighbors': [5, 15, 30]}],\n",
       "       pre_dispatch='2*n_jobs', refit=True, return_train_score=True,\n",
       "       scoring='accuracy', verbose=0)"
      ]
     },
     "execution_count": 30,
     "metadata": {},
     "output_type": "execute_result"
    }
   ],
   "source": [
    "param_grid = [{'n_neighbors':[5,15,30], 'weights':['uniform', 'distance']},\n",
    "              \n",
    "             ]\n",
    "grid_search_knn = GridSearchCV(knn_clf, param_grid, cv=3, scoring='accuracy')\n",
    "grid_search_knn.fit(X_train, y_train)"
   ]
  },
  {
   "cell_type": "code",
   "execution_count": 31,
   "metadata": {
    "collapsed": false
   },
   "outputs": [
    {
     "name": "stdout",
     "output_type": "stream",
     "text": [
      "0.968116666667 {'weights': 'uniform', 'n_neighbors': 5}\n",
      "0.96975 {'weights': 'distance', 'n_neighbors': 5}\n",
      "0.961 {'weights': 'uniform', 'n_neighbors': 15}\n",
      "0.962283333333 {'weights': 'distance', 'n_neighbors': 15}\n",
      "0.952533333333 {'weights': 'uniform', 'n_neighbors': 30}\n",
      "0.954266666667 {'weights': 'distance', 'n_neighbors': 30}\n"
     ]
    }
   ],
   "source": [
    "cvres_knn = grid_search_knn.cv_results_\n",
    "for mean_score, params in zip(cvres_knn[\"mean_test_score\"], cvres_knn[\"params\"]):\n",
    "    print(mean_score, params)"
   ]
  },
  {
   "cell_type": "code",
   "execution_count": 32,
   "metadata": {
    "collapsed": false
   },
   "outputs": [
    {
     "data": {
      "text/plain": [
       "0.96975"
      ]
     },
     "execution_count": 32,
     "metadata": {},
     "output_type": "execute_result"
    }
   ],
   "source": [
    "grid_search_knn.best_score_"
   ]
  },
  {
   "cell_type": "code",
   "execution_count": 33,
   "metadata": {
    "collapsed": false
   },
   "outputs": [
    {
     "data": {
      "text/plain": [
       "GridSearchCV(cv=3, error_score='raise',\n",
       "       estimator=KNeighborsClassifier(algorithm='auto', leaf_size=30, metric='minkowski',\n",
       "           metric_params=None, n_jobs=-1, n_neighbors=5, p=2,\n",
       "           weights='uniform'),\n",
       "       fit_params={}, iid=True, n_jobs=1,\n",
       "       param_grid=[{'weights': ['distance'], 'n_neighbors': [3, 5, 8]}],\n",
       "       pre_dispatch='2*n_jobs', refit=True, return_train_score=True,\n",
       "       scoring='accuracy', verbose=0)"
      ]
     },
     "execution_count": 33,
     "metadata": {},
     "output_type": "execute_result"
    }
   ],
   "source": [
    "param_grid = [{'n_neighbors':[3,5,8], 'weights':['distance']},\n",
    "             ]\n",
    "grid_search_knn2 = GridSearchCV(knn_clf, param_grid, cv=3, scoring='accuracy')\n",
    "grid_search_knn2.fit(X_train, y_train)"
   ]
  },
  {
   "cell_type": "code",
   "execution_count": 34,
   "metadata": {
    "collapsed": false
   },
   "outputs": [
    {
     "name": "stdout",
     "output_type": "stream",
     "text": [
      "0.970166666667 {'weights': 'distance', 'n_neighbors': 3}\n",
      "0.96975 {'weights': 'distance', 'n_neighbors': 5}\n",
      "0.9685 {'weights': 'distance', 'n_neighbors': 8}\n"
     ]
    }
   ],
   "source": [
    "cvres_knn2 = grid_search_knn2.cv_results_\n",
    "for mean_score, params in zip(cvres_knn2[\"mean_test_score\"], cvres_knn2[\"params\"]):\n",
    "    print(mean_score, params)"
   ]
  },
  {
   "cell_type": "code",
   "execution_count": 36,
   "metadata": {
    "collapsed": false
   },
   "outputs": [
    {
     "data": {
      "text/plain": [
       "0.97016666666666662"
      ]
     },
     "execution_count": 36,
     "metadata": {},
     "output_type": "execute_result"
    }
   ],
   "source": [
    "grid_search_knn2.best_score_"
   ]
  },
  {
   "cell_type": "code",
   "execution_count": 51,
   "metadata": {
    "collapsed": false
   },
   "outputs": [
    {
     "data": {
      "image/png": "[encoded data removed]",
      "text/plain": [
       "<matplotlib.figure.Figure at 0x11a1753c8>"
      ]
     },
     "metadata": {},
     "output_type": "display_data"
    }
   ],
   "source": [
    "test_digit2 = X_test[2230]\n",
    "test_digit_image2 = test_digit2.reshape(28,28)\n",
    "\n",
    "plt.imshow(test_digit_image2, cmap = matplotlib.cm.binary,\n",
    "          interpolation=\"nearest\")\n",
    "plt.axis(\"off\")\n",
    "plt.show()"
   ]
  },
  {
   "cell_type": "code",
   "execution_count": 67,
   "metadata": {
    "collapsed": false
   },
   "outputs": [],
   "source": [
    "final_model = grid_search_knn2.best_estimator_\n",
    "\n",
    "def read_numbers(indexes):\n",
    "    for x in indexes:\n",
    "        print(\"Prediction:\", final_model.predict(X_test[x].reshape(1,-1)), \"Correct Answer:\", y_test[x])"
   ]
  },
  {
   "cell_type": "code",
   "execution_count": 72,
   "metadata": {
    "collapsed": false
   },
   "outputs": [
    {
     "name": "stdout",
     "output_type": "stream",
     "text": [
      "Prediction: [ 7.] Correct Answer: 7.0\n",
      "Prediction: [ 3.] Correct Answer: 3.0\n",
      "Prediction: [ 3.] Correct Answer: 3.0\n",
      "Prediction: [ 7.] Correct Answer: 7.0\n",
      "Prediction: [ 2.] Correct Answer: 2.0\n",
      "Prediction: [ 5.] Correct Answer: 5.0\n",
      "Prediction: [ 7.] Correct Answer: 7.0\n",
      "Prediction: [ 2.] Correct Answer: 2.0\n",
      "Prediction: [ 8.] Correct Answer: 8.0\n",
      "Prediction: [ 3.] Correct Answer: 3.0\n"
     ]
    }
   ],
   "source": [
    "import random\n",
    "\n",
    "numbers = random.sample(range(0,10000),10)\n",
    "\n",
    "read_numbers(numbers)"
   ]
  }
 ],
 "metadata": {
  "kernelspec": {
   "display_name": "Python [conda env:python3]",
   "language": "python",
   "name": "conda-env-python3-py"
  },
  "language_info": {
   "codemirror_mode": {
    "name": "ipython",
    "version": 3
   },
   "file_extension": ".py",
   "mimetype": "text/x-python",
   "name": "python",
   "nbconvert_exporter": "python",
   "pygments_lexer": "ipython3",
   "version": "3.5.2"
  }
 },
 "nbformat": 4,
 "nbformat_minor": 2
}
